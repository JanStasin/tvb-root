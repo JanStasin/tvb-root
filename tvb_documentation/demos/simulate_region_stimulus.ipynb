{
 "cells": [
  {
   "cell_type": "code",
   "execution_count": 1,
   "metadata": {},
   "outputs": [],
   "source": [
    "%matplotlib widget\n",
    "import matplotlib.pyplot as plt\n",
    "import numpy\n",
    "from tvb.simulator.lab import *"
   ]
  },
  {
   "cell_type": "markdown",
   "metadata": {},
   "source": [
    "Region Stimuli\n",
    "=========================\n",
    "\n",
    "This tutorial describes the process of adding a stimulation defined at the \n",
    "region level to a simulation. Within TVB, Stimuli can be specified at either\n",
    "the region or surface level, with the latter only applying to the case of\n",
    "simulations including a mesh representation of the cortical surface. Stimuli\n",
    "defined at the region level can also be applied to a surface level simulation.\n",
    "In that case the stimuli applied to cortical regions are mapped to all \n",
    "vertices belonging to that region. \n",
    "\n",
    "Here, we will define a basic stimulus at the region level and apply it to a \n",
    "region level simulation. We'll use a fairly boring deterministic simulation\n",
    "so that the effects of the stimuli are very clear."
   ]
  },
  {
   "cell_type": "markdown",
   "metadata": {},
   "source": [
    "Defining the Stimuli\n",
    "--------------------\n",
    "\n",
    "We'll begin by just arbitrarily selecting some nodes and defining the weighting\n",
    "of the stimuli coming into those nodes, to show what the basic process looks like."
   ]
  },
  {
   "cell_type": "code",
   "execution_count": 3,
   "metadata": {},
   "outputs": [
    {
     "name": "stdout",
     "output_type": "stream",
     "text": [
      "WARNING  File 'hemispheres' not found in ZIP.\n"
     ]
    }
   ],
   "source": [
    "conn = connectivity.Connectivity.from_file()\n",
    "\n",
    "# configure stimulus spatial pattern\n",
    "weighting = numpy.zeros((76, ))\n",
    "weighting[[14, 52, 11, 49]] = 0.1"
   ]
  },
  {
   "cell_type": "markdown",
   "metadata": {},
   "source": [
    "We now need to define the temporal profile. This is done by selecting\n",
    "an equation and setting its parameters as desired, here we'll just take\n",
    "the default Gaussian, with the only change being that we'll shift the \n",
    "midpoint to 16ms. \n",
    "\n",
    "An important thing to note is that, the time defined for the stimuli is\n",
    "relative to a call of the Simulator. That is, if you run a simulation for \n",
    "100ms, and then run the same simulator for a further 100ms (note: continuation\n",
    "of this sort is discussed in another tutorial) then you'll end up with the\n",
    "same stimuli repeated "
   ]
  },
  {
   "cell_type": "code",
   "execution_count": 4,
   "metadata": {},
   "outputs": [],
   "source": [
    "eqn_t = equations.PulseTrain()\n",
    "eqn_t.parameters['onset'] = 1.5e3\n",
    "eqn_t.parameters['T'] = 100.0\n",
    "eqn_t.parameters['tau'] = 50.0"
   ]
  },
  {
   "cell_type": "markdown",
   "metadata": {},
   "source": [
    "Now we need to combine these spatial and temporal components into a StimuliRegion object,\n",
    "which can then be used in the construction of our simulator"
   ]
  },
  {
   "cell_type": "code",
   "execution_count": 5,
   "metadata": {},
   "outputs": [],
   "source": [
    "stimulus = patterns.StimuliRegion(\n",
    "    temporal=eqn_t,\n",
    "    connectivity=conn,\n",
    "    weight=weighting)"
   ]
  },
  {
   "cell_type": "markdown",
   "metadata": {},
   "source": [
    "We can take a quick look at the basic structure of the stimuli we've just defined using\n",
    "one of the built in plotting tools.\n",
    "\n",
    "The plotting tool we'll use provides a simple overview of the stimuli's structure. It \n",
    "assumes the stimulus object is already configured, so we start by configuring the object.\n",
    "This configuration step is actually taken care of automagically within the simulator, so\n",
    "when you don't want to look at your stimuli before running a simulation this step isn't \n",
    "necessary.\n",
    "\n",
    "NOTE: while the information necessary to configure space is provided by the Connectivity\n",
    "object, for time it is necessary to explicitly provide a time vector. When a simulation\n",
    "is run, this time vector is generated internally based on the integration scheme's dt and\n",
    "the simulation length requested when you call the simulator."
   ]
  },
  {
   "cell_type": "code",
   "execution_count": 6,
   "metadata": {},
   "outputs": [
    {
     "data": {
      "application/vnd.jupyter.widget-view+json": {
       "model_id": "2ae85943d990440d90ab2e15e8b8c8a5",
       "version_major": 2,
       "version_minor": 0
      },
      "text/plain": [
       "Canvas(toolbar=Toolbar(toolitems=[('Home', 'Reset original view', 'home', 'home'), ('Back', 'Back to previous …"
      ]
     },
     "metadata": {},
     "output_type": "display_data"
    }
   ],
   "source": [
    "#Configure space and time\n",
    "stimulus.configure_space()\n",
    "stimulus.configure_time(numpy.arange(0., 3e3, 2**-4))\n",
    "\n",
    "#And take a look\n",
    "plot_pattern(stimulus)"
   ]
  },
  {
   "cell_type": "markdown",
   "metadata": {},
   "source": [
    "What you should see above are three plots: top-left is the spatial component of the stimuli,\n",
    "indicating the strength with which the stimuli enters each node; bottom-left is the temporal \n",
    "profile for the stimuli; and the colour plot on the right represents the combination of these\n",
    "two components."
   ]
  },
  {
   "cell_type": "markdown",
   "metadata": {},
   "source": [
    "## Simulate\n",
    "\n",
    "Now, we just create & run the simulation,"
   ]
  },
  {
   "cell_type": "code",
   "execution_count": 7,
   "metadata": {},
   "outputs": [],
   "source": [
    "sim = simulator.Simulator(\n",
    "    model=models.Generic2dOscillator(a=numpy.array([0.3]), tau=numpy.array([2])),\n",
    "    connectivity=conn,\n",
    "    coupling=coupling.Difference(a=numpy.array([7e-4])),\n",
    "    integrator=integrators.HeunStochastic(dt=0.5, noise=noise.Additive(nsig=numpy.array([5e-5]))),\n",
    "    monitors=(\n",
    "        monitors.TemporalAverage(period=1.0),\n",
    "        ),\n",
    "    stimulus=stimulus,\n",
    "    simulation_length=5e3, # 1 minute simulation\n",
    ").configure()\n",
    "\n",
    "(tavg_time, tavg_data),  = sim.run()"
   ]
  },
  {
   "cell_type": "markdown",
   "metadata": {},
   "source": [
    "One specific thing here is that, because simulations started without ideal initial conditions can \n",
    "often have a large transient at the start of the simulation, we need to run the simulator for \n",
    "a bit to clear this transient, otherwise the transient would dominate our stimuli and be difficult\n",
    "to see in the resulting data.\n",
    "\n",
    "NOTE: If you have a strong stimuli with long-lasting effects on the dynamics, it is possible to \n",
    "effectively turn off the stimuli for the purpose of running this initial transient clearing step\n",
    "and then reinitialise it before running the main simulation."
   ]
  },
  {
   "cell_type": "markdown",
   "metadata": {},
   "source": [
    "## Visualize"
   ]
  },
  {
   "cell_type": "code",
   "execution_count": 8,
   "metadata": {},
   "outputs": [
    {
     "data": {
      "application/vnd.jupyter.widget-view+json": {
       "model_id": "f15aa3c820634455b2c1eaab0b303c26",
       "version_major": 2,
       "version_minor": 0
      },
      "text/plain": [
       "Canvas(toolbar=Toolbar(toolitems=[('Home', 'Reset original view', 'home', 'home'), ('Back', 'Back to previous …"
      ]
     },
     "metadata": {},
     "output_type": "display_data"
    },
    {
     "data": {
      "text/plain": [
       "Text(0.5, 0, 'Time (ms)')"
      ]
     },
     "execution_count": 8,
     "metadata": {},
     "output_type": "execute_result"
    }
   ],
   "source": [
    "plt.figure()\n",
    "plt.plot(tavg_time, tavg_data[:, 0, :, 0], 'k', alpha=0.1)\n",
    "plt.plot(tavg_time, tavg_data[:, 0, :, 0].mean(axis=1), 'r', alpha=1)\n",
    "plt.ylabel(\"Temporal average\")\n",
    "plt.xlabel('Time (ms)')\n"
   ]
  },
  {
   "cell_type": "markdown",
   "metadata": {},
   "source": [
    "If you look closely at the time-series above you'll notice that oscillations occur in \n",
    "nodes not directly stimulated, this, of course, is an effect of the activity propagating\n",
    "across the brain network defined by the Connectivity."
   ]
  },
  {
   "cell_type": "code",
   "execution_count": 9,
   "metadata": {},
   "outputs": [
    {
     "data": {
      "text/html": [
       "<table>\n",
       "<h3>TimeSeriesRegion</h3>\n",
       "<thead><tr><th></th><th style=\"text-align:left;width:40%\">value</th></tr></thead>\n",
       "<tbody>\n",
       "<tr><td>Dimensions</td><td style=\"text-align:left;\"><pre>('Time', 'State Variable', 'Region', 'Mode')</pre></td>\n",
       "<tr><td>Length</td><td style=\"text-align:left;\"><pre>5.0</pre></td>\n",
       "<tr><td>Region Mapping</td><td style=\"text-align:left;\"><pre>None</pre></td>\n",
       "<tr><td>Region Mapping Volume</td><td style=\"text-align:left;\"><pre>None</pre></td>\n",
       "<tr><td>Sample period</td><td style=\"text-align:left;\"><pre>0.001</pre></td>\n",
       "<tr><td>Source Connectivity</td><td style=\"text-align:left;\"><pre>Connectivity gid: f5d54d88-c711-4f69-8700-62fae68e4141</pre></td>\n",
       "<tr><td>Time units</td><td style=\"text-align:left;\"><pre>s</pre></td>\n",
       "<tr><td>Time-series name</td><td style=\"text-align:left;\"><pre>TimeSeriesRegion gid: 706ecf43-a8f4-4da9-a7a0-a12b82855bcf</pre></td>\n",
       "<tr><td>Time-series type</td><td style=\"text-align:left;\"><pre>TimeSeriesRegion</pre></td>\n",
       "<tr><td>[min, median, max]</td><td style=\"text-align:left;\"><pre>[-1.53398, 0.0317154, 3.65151]</pre></td>\n",
       "<tr><td>dtype</td><td style=\"text-align:left;\"><pre>float64</pre></td>\n",
       "<tr><td>shape</td><td style=\"text-align:left;\"><pre>(5000, 1, 76, 1)</pre></td>\n",
       "</tbody></table>"
      ],
      "text/plain": [
       "<tvb.datatypes.time_series.TimeSeriesRegion at 0x2139e2b9f88>"
      ]
     },
     "execution_count": 9,
     "metadata": {},
     "output_type": "execute_result"
    }
   ],
   "source": [
    "import tvb.datatypes.time_series\n",
    "tsr = tvb.datatypes.time_series.TimeSeriesRegion(\n",
    "    data=tavg_data,\n",
    "    connectivity=conn,\n",
    "    sample_period=sim.monitors[0].period / 1000.0, \n",
    "    sample_period_unit=\"s\")\n",
    "tsr.configure()\n",
    "tsr"
   ]
  },
  {
   "cell_type": "code",
   "execution_count": 10,
   "metadata": {},
   "outputs": [
    {
     "data": {
      "application/vnd.jupyter.widget-view+json": {
       "model_id": "209f39f3881d46d0a32e9a8756b76acb",
       "version_major": 2,
       "version_minor": 0
      },
      "text/plain": [
       "GridBox(children=(Output(layout=Layout(border='solid 1px black', margin='3px 3px 3px 3px', padding='2px 2px 2p…"
      ]
     },
     "metadata": {},
     "output_type": "display_data"
    }
   ],
   "source": [
    "import tvb.simulator.plot.timeseries_interactive as ts_int\n",
    "tsi = ts_int.TimeSeriesInteractive(time_series=tsr)\n",
    "tsi.configure()\n",
    "tsi.show()"
   ]
  },
  {
   "cell_type": "markdown",
   "metadata": {},
   "source": [
    "We've discussed stimuli that are defined at the region level, and as we noted above, \n",
    "these can also be applied to surface simulations. However, surface simulations \n",
    "provide the additional possibility of defining the spatial component by an equation\n",
    "evaluated as a function of distance from one or more focal points on the cortical \n",
    "surface -- this is described in more detail in \"Tutorial: Surface Stimuli\".\n",
    "\n",
    "Alternatively, we have mentioned the continuation of simulations above, which is \n",
    "something that provides a great deal of flexibility to how you run simulations,\n",
    "for example in reproducing repetitive or block structured experimental paradigms,\n",
    "so you might want to have a look at that tutorial."
   ]
  }
 ],
 "metadata": {
  "kernelspec": {
   "display_name": "Python 3",
   "language": "python",
   "name": "python3"
  },
  "language_info": {
   "codemirror_mode": {
    "name": "ipython",
    "version": 3
   },
   "file_extension": ".py",
   "mimetype": "text/x-python",
   "name": "python",
   "nbconvert_exporter": "python",
   "pygments_lexer": "ipython3",
   "version": "3.7.10"
  }
 },
 "nbformat": 4,
 "nbformat_minor": 1
}
