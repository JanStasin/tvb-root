{
 "cells": [
  {
   "cell_type": "markdown",
   "id": "45b88068",
   "metadata": {},
   "source": [
    "### Phase Plane Interactive Tool"
   ]
  },
  {
   "cell_type": "markdown",
   "id": "e938e537",
   "metadata": {},
   "source": [
    "In this tutorial we will explore the different functionalities of Phase Plane Interactive Tool. Let's begin!"
   ]
  },
  {
   "cell_type": "code",
   "execution_count": 1,
   "id": "03250d05",
   "metadata": {},
   "outputs": [],
   "source": [
    "from tvb.simulator.plot.phase_plane_interactive import PhasePlaneInteractive"
   ]
  },
  {
   "cell_type": "code",
   "execution_count": 2,
   "id": "20efba28",
   "metadata": {},
   "outputs": [],
   "source": [
    "ppi = PhasePlaneInteractive()"
   ]
  },
  {
   "cell_type": "code",
   "execution_count": null,
   "id": "ec965b52",
   "metadata": {},
   "outputs": [],
   "source": [
    "ppi.show()"
   ]
  },
  {
   "cell_type": "markdown",
   "id": "7dfe822d",
   "metadata": {},
   "source": [
    "As you can see in the output above, the control panel contains three different columns.\n",
    "- The first column contains Model Parameter Sliders.\n",
    "- The second column contains the State Variable Sliders and Trajectory Coordinates.\n",
    "- The third column contains the Axes Sliders, Mode Selector and X,Y axis State Variable Selector. "
   ]
  },
  {
   "cell_type": "markdown",
   "id": "4fc83266",
   "metadata": {},
   "source": [
    "#### Now let's pass a model and integrator"
   ]
  },
  {
   "cell_type": "code",
   "execution_count": null,
   "id": "dd4e9eb4",
   "metadata": {},
   "outputs": [],
   "source": [
    "import tvb.simulator.models\n",
    "import tvb.simulator.integrators\n",
    "ppi2 = PhasePlaneInteractive(model = tvb.simulator.models.JansenRit(),\n",
    "                             integrator = tvb.simulator.integrators.HeunStochastic(dt=2**-5))"
   ]
  },
  {
   "cell_type": "code",
   "execution_count": null,
   "id": "698d7ff9",
   "metadata": {},
   "outputs": [],
   "source": [
    "ppi2.show()"
   ]
  },
  {
   "cell_type": "markdown",
   "id": "068a5349",
   "metadata": {},
   "source": [
    "As you can see in the output above, the control panel changes according to the model we pass.\n",
    "For integrators having a noise parameter, a new slider is added in the third column."
   ]
  },
  {
   "cell_type": "code",
   "execution_count": null,
   "id": "cc4dff77",
   "metadata": {},
   "outputs": [],
   "source": []
  }
 ],
 "metadata": {
  "kernelspec": {
   "display_name": "Python 3",
   "language": "python",
   "name": "python3"
  },
  "language_info": {
   "codemirror_mode": {
    "name": "ipython",
    "version": 3
   },
   "file_extension": ".py",
   "mimetype": "text/x-python",
   "name": "python",
   "nbconvert_exporter": "python",
   "pygments_lexer": "ipython3",
   "version": "3.7.10"
  }
 },
 "nbformat": 4,
 "nbformat_minor": 5
}
