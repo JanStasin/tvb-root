{
 "cells": [
  {
   "cell_type": "code",
   "execution_count": 1,
   "metadata": {},
   "outputs": [],
   "source": [
    "#%pylab nbagg\n",
    "%matplotlib widget\n",
    "import os\n",
    "import numpy\n",
    "import matplotlib.pyplot as plt\n",
    "from tvb.simulator.lab import *"
   ]
  },
  {
   "cell_type": "markdown",
   "metadata": {},
   "source": [
    "# Exploring longer time series\n",
    "\n",
    "\n",
    "The scripting interface has two interactive tools for looking at the \n",
    "TimeSeries generated in simulations. This tutorial shows an example of\n",
    "their use, using a demo dataset for region time-series.\n",
    "\n",
    "These are mainly of use for longer simulations, of at least a few seconds.\n",
    "\n",
    "## Example data\n",
    "\n",
    "As a simple set of example data, we will use a linear stochastic model with the default connectivity:"
   ]
  },
  {
   "cell_type": "code",
   "execution_count": 2,
   "metadata": {},
   "outputs": [
    {
     "name": "stdout",
     "output_type": "stream",
     "text": [
      "WARNING  File 'hemispheres' not found in ZIP.\n"
     ]
    },
    {
     "data": {
      "application/vnd.jupyter.widget-view+json": {
       "model_id": "eca168b23f8e40778c37883ccea8a97c",
       "version_major": 2,
       "version_minor": 0
      },
      "text/plain": [
       "Canvas(toolbar=Toolbar(toolitems=[('Home', 'Reset original view', 'home', 'home'), ('Back', 'Back to previous …"
      ]
     },
     "metadata": {},
     "output_type": "display_data"
    },
    {
     "data": {
      "text/plain": [
       "Text(0.5, 0, 'Time (s)')"
      ]
     },
     "execution_count": 2,
     "metadata": {},
     "output_type": "execute_result"
    }
   ],
   "source": [
    "connectivity=connectivity.Connectivity.from_file()\n",
    "connectivity.speed=numpy.array([1.0])\n",
    "\n",
    "sim = simulator.Simulator(\n",
    "    connectivity=connectivity,\n",
    "    coupling=coupling.Linear(a=numpy.array([2e-4])),\n",
    "    integrator=integrators.EulerStochastic(dt=10.0),\n",
    "    model=models.Linear(gamma=numpy.array([-1e-2])),\n",
    "    monitors=(monitors.Raw(),),\n",
    "    simulation_length=60e3\n",
    ").configure()\n",
    "\n",
    "(time, data), = sim.run()\n",
    "\n",
    "plt.figure()\n",
    "plt.plot(time/1e3, data[:, 0, :, 0], 'k', alpha=0.1);\n",
    "plt.xlabel('Time (s)')"
   ]
  },
  {
   "cell_type": "markdown",
   "metadata": {},
   "source": [
    "\n",
    "## Create a TimeSeriesRegion Datatype\n",
    "\n",
    "\n",
    "Because we just stored our simulation as a simple array, we need to turn it into one of \n",
    "TVB's TimeSeries datatypes, which is what the two plotting tools operate on, in this case \n",
    "we'll use TimeSeriesRegion."
   ]
  },
  {
   "cell_type": "code",
   "execution_count": 3,
   "metadata": {},
   "outputs": [
    {
     "data": {
      "text/html": [
       "<table>\n",
       "<h3>TimeSeriesRegion</h3>\n",
       "<thead><tr><th></th><th style=\"text-align:left;width:40%\">value</th></tr></thead>\n",
       "<tbody>\n",
       "<tr><td>Dimensions</td><td style=\"text-align:left;\"><pre>('Time', 'State Variable', 'Region', 'Mode')</pre></td>\n",
       "<tr><td>Length</td><td style=\"text-align:left;\"><pre>60.0</pre></td>\n",
       "<tr><td>Region Mapping</td><td style=\"text-align:left;\"><pre>None</pre></td>\n",
       "<tr><td>Region Mapping Volume</td><td style=\"text-align:left;\"><pre>None</pre></td>\n",
       "<tr><td>Sample period</td><td style=\"text-align:left;\"><pre>0.01</pre></td>\n",
       "<tr><td>Source Connectivity</td><td style=\"text-align:left;\"><pre>Connectivity gid: 8f606bfc-988e-4464-97f9-2ab780e8ddaa</pre></td>\n",
       "<tr><td>Time units</td><td style=\"text-align:left;\"><pre>s</pre></td>\n",
       "<tr><td>Time-series name</td><td style=\"text-align:left;\"><pre>TimeSeriesRegion gid: 29a847de-fda2-4791-822d-4e0f7dbd2bff</pre></td>\n",
       "<tr><td>Time-series type</td><td style=\"text-align:left;\"><pre>TimeSeriesRegion</pre></td>\n",
       "<tr><td>[min, median, max]</td><td style=\"text-align:left;\"><pre>[-49.8224, -0.182784, 53.7502]</pre></td>\n",
       "<tr><td>dtype</td><td style=\"text-align:left;\"><pre>float64</pre></td>\n",
       "<tr><td>shape</td><td style=\"text-align:left;\"><pre>(6000, 1, 76, 1)</pre></td>\n",
       "</tbody></table>"
      ],
      "text/plain": [
       "<tvb.datatypes.time_series.TimeSeriesRegion at 0x264781c0488>"
      ]
     },
     "execution_count": 3,
     "metadata": {},
     "output_type": "execute_result"
    }
   ],
   "source": [
    "tsr = time_series.TimeSeriesRegion(\n",
    "    data=data,\n",
    "    connectivity=sim.connectivity,\n",
    "    sample_period=sim.monitors[0].period / 1e3,\n",
    "    sample_period_unit='s')\n",
    "tsr.configure()\n",
    "tsr"
   ]
  },
  {
   "cell_type": "markdown",
   "metadata": {},
   "source": [
    "Create And Launch A TimeSeriesInteractive\n",
    "------------------------------------------\n",
    "\n",
    "Our typical approach throughout these tutorials has been to to simply plot our time-series \n",
    "using PyLab's plot() function. This is fine as a quick way to look at the small amounts of \n",
    "data we'd been producing, but is insufficient for longer, more meaningful, time-series, \n",
    "such as we get when trying to runs simulations aimed at generating time-series comparable \n",
    "to experimental data. \n",
    "\n",
    "TimeSeriesInteractive is a tool for looking at these longer time-series. It's still \n",
    "relatively simple, but it adds a number of useful features. The time-series are plotted\n",
    "in the main central panel with a constant vertical offset, the label for each channel or\n",
    "region displayed down the left hand side. Along the bottom are three basic controls:\n",
    "on the left there is a slider that allows the length of the window to be changed (in \n",
    "physical units); in the middle a set of buttons exist to step forward and backward \n",
    "through the time-series at different speeds (at the top of the window there is an \n",
    "indicator showing where you are in the time-series); and on the right the vertical \n",
    "spacing, or offset between time series can be set, this has the effect of scaling the \n",
    "time-series' amplitudes."
   ]
  },
  {
   "cell_type": "code",
   "execution_count": 4,
   "metadata": {},
   "outputs": [
    {
     "data": {
      "application/vnd.jupyter.widget-view+json": {
       "model_id": "223f0c0655684681841a788835643b6b",
       "version_major": 2,
       "version_minor": 0
      },
      "text/plain": [
       "GridBox(children=(Output(layout=Layout(border='solid 1px black', margin='3px 3px 3px 3px', padding='2px 2px 2p…"
      ]
     },
     "metadata": {},
     "output_type": "display_data"
    }
   ],
   "source": [
    "#Create and launch the interactive visualiser\n",
    "import tvb.simulator.plot.timeseries_interactive as ts_int\n",
    "tsi = ts_int.TimeSeriesInteractive(time_series=tsr)\n",
    "tsi.configure()\n",
    "tsi.show()"
   ]
  },
  {
   "cell_type": "code",
   "execution_count": null,
   "metadata": {},
   "outputs": [],
   "source": []
  }
 ],
 "metadata": {
  "interpreter": {
   "hash": "3bcfe3eef8122936e0f5b078a82216b267eb9a7ca5471584ffeadc451a2f5634"
  },
  "kernelspec": {
   "display_name": "Python 3",
   "language": "python",
   "name": "python3"
  },
  "language_info": {
   "codemirror_mode": {
    "name": "ipython",
    "version": 3
   },
   "file_extension": ".py",
   "mimetype": "text/x-python",
   "name": "python",
   "nbconvert_exporter": "python",
   "pygments_lexer": "ipython3",
   "version": "3.7.10"
  }
 },
 "nbformat": 4,
 "nbformat_minor": 1
}
