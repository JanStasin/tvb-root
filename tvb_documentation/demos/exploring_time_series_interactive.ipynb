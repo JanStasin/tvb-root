{
 "cells": [
  {
   "cell_type": "markdown",
   "id": "45b88068",
   "metadata": {},
   "source": [
    "## Time Series Interactive Tool"
   ]
  },
  {
   "cell_type": "markdown",
   "id": "e938e537",
   "metadata": {},
   "source": [
    "In this tutorial we will explore the different functionalities of Time Series Interactive Tool."
   ]
  },
  {
   "cell_type": "code",
   "execution_count": 1,
   "id": "03250d05",
   "metadata": {},
   "outputs": [],
   "source": [
    "%matplotlib widget\n",
    "from tvb.simulator.plot.timeseries_interactive import TimeSeriesInteractive"
   ]
  },
  {
   "cell_type": "code",
   "execution_count": 2,
   "id": "20efba28",
   "metadata": {},
   "outputs": [
    {
     "name": "stdout",
     "output_type": "stream",
     "text": [
      "2021-08-09 10:39:55,205 - WARNING - tvb.basic.readers - File 'hemispheres' not found in ZIP.\n"
     ]
    }
   ],
   "source": [
    "#Load the demo data\n",
    "import numpy as np\n",
    "data = np.load(\"demo_data_region_16s_2048Hz.npy\")\n",
    "period = 0.00048828125 #NOTE: Providing period in seconds\n",
    "\n",
    "#Create a TVB TimeSeries object\n",
    "import tvb.datatypes.time_series\n",
    "tsr = tvb.datatypes.time_series.TimeSeriesRegion()\n",
    "tsr.data = data\n",
    "tsr.sample_period = period\n",
    "\n",
    "from tvb.datatypes.connectivity import Connectivity\n",
    "tsr.connectivity = Connectivity.from_file()\n",
    "\n",
    "\n",
    "tsi = TimeSeriesInteractive(time_series=tsr)\n",
    "tsi.configure()"
   ]
  },
  {
   "cell_type": "code",
   "execution_count": 3,
   "id": "ec965b52",
   "metadata": {},
   "outputs": [
    {
     "data": {
      "application/vnd.jupyter.widget-view+json": {
       "model_id": "61cfb3288fcd495d9dc7ef40835c0be7",
       "version_major": 2,
       "version_minor": 0
      },
      "text/plain": [
       "GridBox(children=(Output(layout=Layout(border='solid 1px black', margin='3px 3px 3px 3px', padding='2px 2px 2p…"
      ]
     },
     "metadata": {},
     "output_type": "display_data"
    }
   ],
   "source": [
    "tsi.show()"
   ]
  },
  {
   "cell_type": "markdown",
   "id": "e33e8842",
   "metadata": {},
   "source": [
    "As you can see in the output above, the control panel consists of Window Length Slider, Time Series Viewer Control Buttons, Spacing slider and Space Label Selection checkboxes."
   ]
  },
  {
   "cell_type": "markdown",
   "id": "b87b7cd8",
   "metadata": {},
   "source": [
    "### Let's explore each functionality one by one"
   ]
  },
  {
   "cell_type": "markdown",
   "id": "999f1cc5",
   "metadata": {},
   "source": [
    "##### Space Label Selection Checkboxes\n",
    "\n",
    "<p>These checkboxes select/unselect the various space labels of the time series. Primary purpose of these checkboxes is to observe specific space labels clearly.</p>\n",
    "\n",
    "<p><b>Try it out yourself:</b> Unselect all labels and select rA1, rA2, rIA and rIP only.</p>"
   ]
  },
  {
   "cell_type": "markdown",
   "id": "f67f5f64",
   "metadata": {},
   "source": [
    "##### Window Length Slider\n",
    "\n",
    "<p>This slider determines the length of the window to observe the TimeSeries. The main use of this slider is to observe the small changes occuring in the Time Series in contrast to the overall waveform.</p>\n",
    "\n",
    "<p><b>Try it out yourself:</b> Change the window length to 2, to observe the timeseries clearly.</p>"
   ]
  },
  {
   "cell_type": "markdown",
   "id": "9b01a8d3",
   "metadata": {},
   "source": [
    "##### Spacing Slider\n",
    "\n",
    "<p>This slider alters the spacing between two time series.</p>\n",
    "\n",
    "<p><b>Try it out yourself:</b> Increase the spacing between different time series to 0.8 using the Spacing Slider.</p>"
   ]
  },
  {
   "cell_type": "markdown",
   "id": "00ce8884",
   "metadata": {},
   "source": [
    "##### Time Series Viewer Buttons\n",
    "\n",
    "These buttons help to navigate within the TimeSeries by moving the window by either 0.25 sec or 0.5 sec.\n",
    "- The '<' and '>' buttons step 0.25 sec backward and forward in time respectively.\n",
    "- The '<<' and '>>' buttons step 0.5 sec backward and forward in time respectively.\n",
    "- The '|<<' and '>>|' buttons navigate to the beginning and end of the TimeSeries respectively.\n",
    "\n",
    "<p><b>Try it out yourself:</b> Navigate forward in time and observe the Time Series.</p>"
   ]
  }
 ],
 "metadata": {
  "kernelspec": {
   "display_name": "Python 3",
   "language": "python",
   "name": "python3"
  },
  "language_info": {
   "codemirror_mode": {
    "name": "ipython",
    "version": 3
   },
   "file_extension": ".py",
   "mimetype": "text/x-python",
   "name": "python",
   "nbconvert_exporter": "python",
   "pygments_lexer": "ipython3",
   "version": "3.7.10"
  }
 },
 "nbformat": 4,
 "nbformat_minor": 5
}
